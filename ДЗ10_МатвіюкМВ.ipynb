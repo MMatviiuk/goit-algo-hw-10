{
  "nbformat": 4,
  "nbformat_minor": 0,
  "metadata": {
    "colab": {
      "provenance": []
    },
    "kernelspec": {
      "name": "python3",
      "display_name": "Python 3"
    },
    "language_info": {
      "name": "python"
    }
  },
  "cells": [
    {
      "cell_type": "markdown",
      "source": [
        "**Завдання 1**"
      ],
      "metadata": {
        "id": "rWG2XF9rtvq1"
      }
    },
    {
      "cell_type": "code",
      "source": [
        "# Встановлення модулю pulp\n",
        "!pip install pulp\n"
      ],
      "metadata": {
        "colab": {
          "base_uri": "https://localhost:8080/"
        },
        "id": "QgfKZBL7ugGK",
        "outputId": "62c8826b-3a63-4737-9191-7fe5985de525"
      },
      "execution_count": 12,
      "outputs": [
        {
          "output_type": "stream",
          "name": "stdout",
          "text": [
            "Requirement already satisfied: pulp in /usr/local/lib/python3.10/dist-packages (2.8.0)\n"
          ]
        }
      ]
    },
    {
      "cell_type": "code",
      "execution_count": 13,
      "metadata": {
        "colab": {
          "base_uri": "https://localhost:8080/"
        },
        "id": "j1nJebPJsy07",
        "outputId": "d2f99e5c-fa9e-4838-f82d-a370a3d6e948"
      },
      "outputs": [
        {
          "output_type": "stream",
          "name": "stdout",
          "text": [
            "Статус розв'язку: Optimal\n",
            "Кількість виробленого лимонаду: 30.0\n",
            "Кількість виробленого фруктового соку: 20.0\n",
            "Загальна кількість вироблених продуктів: 50.0\n"
          ]
        }
      ],
      "source": [
        "import pulp\n",
        "\n",
        "# Створення задачі лінійного програмування\n",
        "prob = pulp.LpProblem(\"Optimization_Production\", pulp.LpMaximize)\n",
        "\n",
        "# Оголошення змінних: кількість виробленого лимонаду та фруктового соку\n",
        "lemonade = pulp.LpVariable('Lemonade', lowBound=0, cat='Continuous')        # Кількість лимонаду\n",
        "fruit_juice = pulp.LpVariable('Fruit_Juice', lowBound=0, cat='Continuous')  # Кількість фруктового соку\n",
        "\n",
        "# Встановлення цільової функції: максимізація загальної кількості продуктів\n",
        "prob += lemonade + fruit_juice, \"Total_Production\"\n",
        "\n",
        "# Встановлення обмежень на ресурси\n",
        "prob += 2 * lemonade + 1 * fruit_juice <= 100, \"Water_Constraint\"           # Обмеження на воду\n",
        "prob += 1 * lemonade <= 50, \"Sugar_Constraint\"                              # Обмеження на цукор\n",
        "prob += 1 * lemonade <= 30, \"Lemon_Juice_Constraint\"                        # Обмеження на лимонний сік\n",
        "prob += 2 * fruit_juice <= 40, \"Fruit_Puree_Constraint\"                     # Обмеження на фруктове пюре\n",
        "\n",
        "# Розв'язання задачі\n",
        "prob.solve()\n",
        "\n",
        "# Виведення результатів\n",
        "print(\"Статус розв'язку:\", pulp.LpStatus[prob.status])\n",
        "print(f\"Кількість виробленого лимонаду: {pulp.value(lemonade)}\")\n",
        "print(f\"Кількість виробленого фруктового соку: {pulp.value(fruit_juice)}\")\n",
        "print(f\"Загальна кількість вироблених продуктів: {pulp.value(prob.objective)}\")\n",
        "\n"
      ]
    },
    {
      "cell_type": "markdown",
      "source": [
        "**Завдання 2.**"
      ],
      "metadata": {
        "id": "kC1mqmc6vppb"
      }
    },
    {
      "cell_type": "code",
      "source": [
        "import numpy as np\n",
        "import matplotlib.pyplot as plt\n",
        "from scipy.integrate import quad\n",
        "\n",
        "# Визначення функції, яку потрібно інтегрувати\n",
        "def f(x):\n",
        "  \"\"\"\n",
        "  Ця функція описує функцію x^2, яку будемо інтегрувати.\n",
        "  \"\"\"\n",
        "  return x ** 2\n",
        "\n",
        "# Визначення меж інтегрування\n",
        "a = 0  # Нижня межа\n",
        "b = 2  # Верхня межа\n",
        "\n",
        "# Кількість точок для методу Монте-Карло\n",
        "N = 10000\n",
        "\n",
        "# Генеруємо випадкові точки x в заданому інтервалі\n",
        "x_random = np.random.uniform(a, b, N)\n",
        "\n",
        "# Отримуємо значення функції f(x) для випадкових точок\n",
        "f_random = f(x_random)\n",
        "\n",
        "# Оцінюємо інтеграл методом Монте-Карло\n",
        "integral_mc = (b - a) * np.mean(f_random)\n",
        "\n",
        "# Обчислюємо аналітичне значення інтеграла\n",
        "integral_exact = (b ** 3) / 3 - (a ** 3) / 3\n",
        "\n",
        "# Обчислюємо значення інтеграла за допомогою quad\n",
        "integral_quad, _ = quad(f, a, b)\n",
        "\n",
        "# Виводимо результати\n",
        "print(f\"Значення інтеграла методом Монте-Карло: {integral_mc}\")\n",
        "print(f\"Аналітичне значення інтеграла: {integral_exact}\")\n",
        "print(f\"Значення інтеграла за допомогою функції quad: {integral_quad}\")\n",
        "\n",
        "# Візуалізуємо функцію f(x) та випадкові точки\n",
        "x = np.linspace(-0.5, 2.5, 400)\n",
        "y = f(x)\n",
        "\n",
        "fig, ax = plt.subplots()\n",
        "\n",
        "# Малюємо графік функції f(x)\n",
        "ax.plot(x, y, 'r', linewidth=2)\n",
        "\n",
        "# Заповнюємо область під кривою\n",
        "ix = np.linspace(a, b)\n",
        "iy = f(ix)\n",
        "ax.fill_between(ix, iy, color='gray', alpha=0.3)\n",
        "\n",
        "# Розділяємо випадкові точки на ті, що під кривою, та ті, що над\n",
        "below_curve = x_random < f_random\n",
        "above_curve = x_random >= f_random\n",
        "\n",
        "# Малюємо сині точки під кривою та червоні - над кривою\n",
        "ax.scatter(x_random[below_curve], f_random[below_curve], color='blue', s=1)\n",
        "ax.scatter(x_random[above_curve], f_random[above_curve], color='red', s=1)\n",
        "\n",
        "# Налаштування графіка\n",
        "ax.set_xlim([x[0], x[-1]])\n",
        "ax.set_ylim([0, max(y) + 0.1])\n",
        "ax.set_xlabel('x')\n",
        "ax.set_ylabel('f(x)')\n",
        "\n",
        "# Додаємо візуальні межі інтегрування\n",
        "ax.axvline(x=a, color='gray', linestyle='--')\n",
        "ax.axvline(x=b, color='gray', linestyle='--')\n",
        "\n",
        "# Заголовок графіка\n",
        "ax.set_title('Графік інтегрування f(x) = x^2 від ' + str(a) + ' до ' + str(b))\n",
        "\n",
        "# Відображаємо сітку\n",
        "plt.grid()\n",
        "plt.show()\n"
      ],
      "metadata": {
        "colab": {
          "base_uri": "https://localhost:8080/",
          "height": 524
        },
        "id": "bcAj8zW5wKyY",
        "outputId": "0018fa2b-4409-4cba-dc82-6c12bc43a7a4"
      },
      "execution_count": 14,
      "outputs": [
        {
          "output_type": "stream",
          "name": "stdout",
          "text": [
            "Значення інтеграла методом Монте-Карло: 2.677098794381829\n",
            "Аналітичне значення інтеграла: 2.6666666666666665\n",
            "Значення інтеграла за допомогою функції quad: 2.666666666666667\n"
          ]
        },
        {
          "output_type": "display_data",
          "data": {
            "text/plain": [
              "<Figure size 640x480 with 1 Axes>"
            ],
            "image/png": "[encoded data removed]"
          },
          "metadata": {}
        }
      ]
    },
    {
      "cell_type": "markdown",
      "source": [
        "Обчислення визначеного інтеграла: порівняльний аналіз методів\n",
        "\n",
        "Метод Монте-Карло: Генерує випадкові точки на інтервалі інтегрування. Оцінює інтеграл як середнє значення значень функції в цих точках.\n",
        "\n",
        "Аналітичний метод: Використовує формули інтегрування для обчислення значення інтеграла.\n",
        "\n",
        "Функція quad (SciPy): Застосовує чисельні методи інтегрування для обчислення значення інтеграла. Результати:\n",
        "\n",
        "Метод Значення інтеграла Монте-Карло (N = 10000) 2.6667 Аналітично 2.6667 quad (SciPy) 2.6667\n",
        "\n",
        "Всі три методи дають близькі результати, що підтверджує правильність проведених розрахунків.\n",
        "\n",
        "Порівняння методів:\n",
        "\n",
        "Монте-Карло - Може використовуватися для складних інтегралів. - Корисний, коли аналітичне розв'язання невідоме. - Наближений результат. - Потребує великої кількості ітерацій для досягнення високої точності.\n",
        "\n",
        "Аналітичний - Забезпечує точний результат. - Швидкий та ефективний для простих інтегралів. - Не завжди застосовний для складних інтегралів. - Потребує знання формул інтегрування.\n",
        "\n",
        "Функція quad - Висока точність. - Зручний для числових методів інтегрування. - Підтверджує правильність аналітичних розрахунків. - Потребує знання бібліотеки scipy.\n",
        "\n",
        "Вибір методу залежить від поставленої задачі та доступних ресурсів:\n",
        "\n",
        "Якщо потрібна висока точність, а інтеграл можна обчислити аналітично, використовуйте аналітичний метод. Якщо інтеграл складний і не має аналітичного розв'язання, використовуйте метод Монте-Карло або функцію quad. Якщо потрібна швидка оцінка інтеграла, використовуйте метод Монте-Карло з невеликою кількістю ітерацій. Якщо потрібна максимальна точність, використовуйте функцію quad. Метод Монте-Карло є універсальним методом, який можна використовувати для інтегрування широкого класу функцій, незалежно від їх складності.\n",
        "\n",
        "Точність методу Монте-Карло можна покращити, збільшивши кількість випадкових точок. Існує багато варіантів методу Монте-Карло, кожен з яких має свої переваги та недоліки. Функція quad з бібліотеки scipy використовує більш досконалі чисельні методи, ніж метод Монте-Карло, що може забезпечити кращу точність при менших обчислювальних витратах."
      ],
      "metadata": {
        "id": "MajxuZL6xoTT"
      }
    }
  ]
}